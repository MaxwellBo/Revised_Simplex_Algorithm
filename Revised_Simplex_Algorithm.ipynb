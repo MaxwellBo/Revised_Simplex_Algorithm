{
 "cells": [
  {
   "cell_type": "markdown",
   "metadata": {},
   "source": [
    "Julia does not allow `^`, `'` and `*` in variable names. \n",
    "\n",
    "Thus, for variable names:\n",
    "\n",
    "- superscript notation will elided\n",
    "- $*$ will become `s`\n",
    "- $'$ will become `p`\n",
    "- $^-1$ will become `1`\n",
    "\n",
    "Underscores for subscripts will be used"
   ]
  },
  {
   "cell_type": "markdown",
   "metadata": {},
   "source": [
    "#### a) What is the basic feasible solution at this stage? What is the value of the objective?"
   ]
  },
  {
   "cell_type": "markdown",
   "metadata": {},
   "source": [
    "#### 2017"
   ]
  },
  {
   "cell_type": "code",
   "execution_count": 28,
   "metadata": {},
   "outputs": [
    {
     "data": {
      "text/plain": [
       "3-element Array{Int64,1}:\n",
       " 3\n",
       " 5\n",
       " 7"
      ]
     },
     "execution_count": 28,
     "metadata": {},
     "output_type": "execute_result"
    }
   ],
   "source": [
    "cT = [ 20 10 15 0 0 0 0 ] # * -1 to minimize\n",
    "\n",
    "A = [ \n",
    "    3 2 5 1 0 0 0;\n",
    "    2 1 1 0 1 0 0;\n",
    "    1 1 3 0 0 1 0;\n",
    "    5 2 4 0 0 0 1\n",
    "]\n",
    "\n",
    "b = [\n",
    "    55;\n",
    "    26;\n",
    "    30;\n",
    "    57\n",
    "]\n",
    "\n",
    "basis = [1; 2; 4; 6]\n",
    "non_basics = [3; 5; 7]"
   ]
  },
  {
   "cell_type": "markdown",
   "metadata": {},
   "source": [
    "#### 2016"
   ]
  },
  {
   "cell_type": "code",
   "execution_count": 29,
   "metadata": {},
   "outputs": [
    {
     "data": {
      "text/plain": [
       "3-element Array{Int64,1}:\n",
       " 2\n",
       " 3\n",
       " 5"
      ]
     },
     "execution_count": 29,
     "metadata": {},
     "output_type": "execute_result"
    }
   ],
   "source": [
    "cT = [ 2 1 2 0 0 0 ]\n",
    "\n",
    "A = [\n",
    "    4 3 8 1 0 0;\n",
    "    4 1 12 0 1 0;\n",
    "    4 -1 3 0 0 1\n",
    "]\n",
    "\n",
    "b = [\n",
    "    12;\n",
    "    8;\n",
    "    8\n",
    "]\n",
    "\n",
    "basis = [1; 4; 6]\n",
    "non_basics = [2; 3; 5]"
   ]
  },
  {
   "cell_type": "code",
   "execution_count": 30,
   "metadata": {},
   "outputs": [
    {
     "data": {
      "text/plain": [
       "3×3 Array{Int64,2}:\n",
       " 4  1  0\n",
       " 4  0  0\n",
       " 4  0  1"
      ]
     },
     "execution_count": 30,
     "metadata": {},
     "output_type": "execute_result"
    }
   ],
   "source": [
    "B = A[:, basis]"
   ]
  },
  {
   "cell_type": "code",
   "execution_count": 31,
   "metadata": {},
   "outputs": [
    {
     "data": {
      "text/plain": [
       "3×3 Array{Float64,2}:\n",
       " 0.0   0.25  -0.0\n",
       " 1.0  -1.0    0.0\n",
       " 0.0  -1.0    1.0"
      ]
     },
     "execution_count": 31,
     "metadata": {},
     "output_type": "execute_result"
    }
   ],
   "source": [
    "B1 = inv(B)"
   ]
  },
  {
   "cell_type": "code",
   "execution_count": 32,
   "metadata": {},
   "outputs": [
    {
     "data": {
      "text/plain": [
       "3-element Array{Float64,1}:\n",
       " 2.0\n",
       " 4.0\n",
       " 0.0"
      ]
     },
     "execution_count": 32,
     "metadata": {},
     "output_type": "execute_result"
    }
   ],
   "source": [
    "# values of the variables of the basis\n",
    "xB = B1 * b "
   ]
  },
  {
   "cell_type": "code",
   "execution_count": 33,
   "metadata": {},
   "outputs": [
    {
     "data": {
      "text/plain": [
       "1×3 RowVector{Int64,Array{Int64,1}}:\n",
       " 2  0  0"
      ]
     },
     "execution_count": 33,
     "metadata": {},
     "output_type": "execute_result"
    }
   ],
   "source": [
    "# objective function coefficients of the basic variables\n",
    "cBT = transpose(cT[basis])"
   ]
  },
  {
   "cell_type": "code",
   "execution_count": 34,
   "metadata": {},
   "outputs": [
    {
     "data": {
      "text/plain": [
       "4.0"
      ]
     },
     "execution_count": 34,
     "metadata": {},
     "output_type": "execute_result"
    }
   ],
   "source": [
    "# objective\n",
    "zB = cBT * xB"
   ]
  },
  {
   "cell_type": "markdown",
   "metadata": {},
   "source": [
    "#### b) What is the entering variable for the next step of the Revised Simplex Algorithm?"
   ]
  },
  {
   "cell_type": "markdown",
   "metadata": {},
   "source": [
    "Determine the entering variable $x_{j^∗}$ with associated vector of the constraint matrix $p^{j^*}$. "
   ]
  },
  {
   "cell_type": "markdown",
   "metadata": {},
   "source": [
    "Compute the dual variables"
   ]
  },
  {
   "cell_type": "code",
   "execution_count": 35,
   "metadata": {},
   "outputs": [
    {
     "data": {
      "text/plain": [
       "1×3 RowVector{Float64,Array{Float64,1}}:\n",
       " 0.0  0.5  0.0"
      ]
     },
     "execution_count": 35,
     "metadata": {},
     "output_type": "execute_result"
    }
   ],
   "source": [
    "yT = cBT * B1"
   ]
  },
  {
   "cell_type": "markdown",
   "metadata": {},
   "source": [
    "Compute the \"reduced cost\" for all non-basic variables $$c^{'}_j = c_j - y^T p^j ~ \\forall j \\in \\text{ non-basic}$$"
   ]
  },
  {
   "cell_type": "code",
   "execution_count": 36,
   "metadata": {},
   "outputs": [
    {
     "data": {
      "text/plain": [
       "3-element Array{Any,1}:\n",
       "  0.5\n",
       " -4.0\n",
       " -0.5"
      ]
     },
     "execution_count": 36,
     "metadata": {},
     "output_type": "execute_result"
    }
   ],
   "source": [
    "cp = []\n",
    "\n",
    "for j in non_basics\n",
    "    pj = A[:, j]\n",
    "    \n",
    "    cp_j = cT[j] - (yT * pj)\n",
    "    \n",
    "    append!(cp, cp_j)\n",
    "end\n",
    "\n",
    "cp"
   ]
  },
  {
   "cell_type": "markdown",
   "metadata": {},
   "source": [
    "Choose $j^∗$ such that $c^{'}_{j^*} > 0$ "
   ]
  },
  {
   "cell_type": "code",
   "execution_count": 37,
   "metadata": {},
   "outputs": [
    {
     "data": {
      "text/plain": [
       "(0.5, 1)"
      ]
     },
     "execution_count": 37,
     "metadata": {},
     "output_type": "execute_result"
    }
   ],
   "source": [
    "# c'_j*\n",
    "(cp_js, i) = findmax(cp)"
   ]
  },
  {
   "cell_type": "code",
   "execution_count": 38,
   "metadata": {},
   "outputs": [
    {
     "data": {
      "text/plain": [
       "3-element Array{Int64,1}:\n",
       "  3\n",
       "  1\n",
       " -1"
      ]
     },
     "execution_count": 38,
     "metadata": {},
     "output_type": "execute_result"
    }
   ],
   "source": [
    "js = non_basics[i]\n",
    "\n",
    "# p^j*\n",
    "pjs = A[:, js]"
   ]
  },
  {
   "cell_type": "code",
   "execution_count": 39,
   "metadata": {},
   "outputs": [
    {
     "name": "stdout",
     "output_type": "stream",
     "text": [
      "x2 should enter\n"
     ]
    }
   ],
   "source": [
    "println(\"x\", js, \" should enter\")"
   ]
  },
  {
   "cell_type": "markdown",
   "metadata": {},
   "source": [
    "#### c) What is the leaving variable?"
   ]
  },
  {
   "cell_type": "markdown",
   "metadata": {},
   "source": [
    "Determine the leaving variable $x_r$ with associated vector $p^r$.\n",
    "\n",
    "Compute the direction in which we are going to move $$a^{j^*} = B^{-1} p^{j^*}$$\n",
    "\n",
    "for the $j^*$ we chose above.\n",
    "\n",
    "As we increase $x_{j^*}$, then the other variables reduce by $a^{j^*}$."
   ]
  },
  {
   "cell_type": "code",
   "execution_count": 40,
   "metadata": {},
   "outputs": [
    {
     "data": {
      "text/plain": [
       "3-element Array{Float64,1}:\n",
       "  0.25\n",
       "  2.0 \n",
       " -2.0 "
      ]
     },
     "execution_count": 40,
     "metadata": {},
     "output_type": "execute_result"
    }
   ],
   "source": [
    "ajs = B1 * pjs"
   ]
  },
  {
   "cell_type": "markdown",
   "metadata": {},
   "source": [
    "$x_r$ is the basic variable which achieves the value $$\\theta = \\min_{k} \\{  \\frac{x^{B}_k}{\\alpha^{j^*}_k} ~ \\vert ~ \\alpha^{j^*}_k > 0 \\}$$"
   ]
  },
  {
   "cell_type": "code",
   "execution_count": 41,
   "metadata": {},
   "outputs": [
    {
     "data": {
      "text/plain": [
       "2-element Array{Tuple{Float64,Int64},1}:\n",
       " (8.0, 1)\n",
       " (2.0, 2)"
      ]
     },
     "execution_count": 41,
     "metadata": {},
     "output_type": "execute_result"
    }
   ],
   "source": [
    "xs = [ (xB[k] / ajs[k], k) for k in 1:length(basis) if ajs[k] > 0 ]"
   ]
  },
  {
   "cell_type": "code",
   "execution_count": 42,
   "metadata": {},
   "outputs": [
    {
     "data": {
      "text/plain": [
       "(2.0, 2)"
      ]
     },
     "execution_count": 42,
     "metadata": {},
     "output_type": "execute_result"
    }
   ],
   "source": [
    "fst = x -> x[1]\n",
    "(theta, k) = sort(xs, by=fst)[1]"
   ]
  },
  {
   "cell_type": "code",
   "execution_count": 43,
   "metadata": {},
   "outputs": [
    {
     "name": "stdout",
     "output_type": "stream",
     "text": [
      "x4 should leave\n"
     ]
    }
   ],
   "source": [
    "r = basis[k]\n",
    "println(\"x\", r, \" should leave\")"
   ]
  },
  {
   "cell_type": "markdown",
   "metadata": {},
   "source": [
    "Remove $x_r$ from the basis and add $x_{j^*}$"
   ]
  },
  {
   "cell_type": "code",
   "execution_count": 44,
   "metadata": {},
   "outputs": [
    {
     "data": {
      "text/plain": [
       "3-element Array{Int64,1}:\n",
       " 1\n",
       " 2\n",
       " 6"
      ]
     },
     "execution_count": 44,
     "metadata": {},
     "output_type": "execute_result"
    }
   ],
   "source": [
    "deleteat!(basis, basis .== r);\n",
    "append!(basis, js)\n",
    "\n",
    "deleteat!(non_basics, non_basics .== js);\n",
    "append!(non_basics, r)\n",
    "\n",
    "sort!(basis)"
   ]
  },
  {
   "cell_type": "code",
   "execution_count": 45,
   "metadata": {},
   "outputs": [
    {
     "data": {
      "text/plain": [
       "3-element Array{Int64,1}:\n",
       " 3\n",
       " 4\n",
       " 5"
      ]
     },
     "execution_count": 45,
     "metadata": {},
     "output_type": "execute_result"
    }
   ],
   "source": [
    "sort!(non_basics)"
   ]
  },
  {
   "cell_type": "markdown",
   "metadata": {},
   "source": [
    "#### d) What is the new value of the objective? Verify that the new solution is optimal."
   ]
  },
  {
   "cell_type": "code",
   "execution_count": 46,
   "metadata": {},
   "outputs": [
    {
     "data": {
      "text/plain": [
       "3×3 Array{Int64,2}:\n",
       " 4   3  0\n",
       " 4   1  0\n",
       " 4  -1  1"
      ]
     },
     "execution_count": 46,
     "metadata": {},
     "output_type": "execute_result"
    }
   ],
   "source": [
    "B = A[:, basis]"
   ]
  },
  {
   "cell_type": "code",
   "execution_count": 47,
   "metadata": {},
   "outputs": [
    {
     "data": {
      "text/plain": [
       "3×3 Array{Float64,2}:\n",
       " -0.125   0.375  0.0\n",
       "  0.5    -0.5    0.0\n",
       "  1.0    -2.0    1.0"
      ]
     },
     "execution_count": 47,
     "metadata": {},
     "output_type": "execute_result"
    }
   ],
   "source": [
    "B1 = inv(B)"
   ]
  },
  {
   "cell_type": "code",
   "execution_count": 48,
   "metadata": {},
   "outputs": [
    {
     "data": {
      "text/plain": [
       "3-element Array{Float64,1}:\n",
       " 1.5\n",
       " 2.0\n",
       " 4.0"
      ]
     },
     "execution_count": 48,
     "metadata": {},
     "output_type": "execute_result"
    }
   ],
   "source": [
    "# values of the variables of the basis\n",
    "xB = B1 * b "
   ]
  },
  {
   "cell_type": "code",
   "execution_count": 49,
   "metadata": {},
   "outputs": [
    {
     "data": {
      "text/plain": [
       "1×3 RowVector{Int64,Array{Int64,1}}:\n",
       " 2  1  0"
      ]
     },
     "execution_count": 49,
     "metadata": {},
     "output_type": "execute_result"
    }
   ],
   "source": [
    "# objective function coefficients of the basic variables\n",
    "cBT = transpose(cT[basis])"
   ]
  },
  {
   "cell_type": "code",
   "execution_count": 50,
   "metadata": {},
   "outputs": [
    {
     "data": {
      "text/plain": [
       "5.0"
      ]
     },
     "execution_count": 50,
     "metadata": {},
     "output_type": "execute_result"
    }
   ],
   "source": [
    "# objective \n",
    "zB = cBT * xB"
   ]
  },
  {
   "cell_type": "code",
   "execution_count": 51,
   "metadata": {},
   "outputs": [
    {
     "data": {
      "text/plain": [
       "1×3 RowVector{Float64,Array{Float64,1}}:\n",
       " 0.25  0.25  0.0"
      ]
     },
     "execution_count": 51,
     "metadata": {},
     "output_type": "execute_result"
    }
   ],
   "source": [
    "yT = cBT * B1"
   ]
  },
  {
   "cell_type": "code",
   "execution_count": 52,
   "metadata": {},
   "outputs": [
    {
     "data": {
      "text/plain": [
       "3-element Array{Any,1}:\n",
       " -3.0 \n",
       " -0.25\n",
       " -0.25"
      ]
     },
     "execution_count": 52,
     "metadata": {},
     "output_type": "execute_result"
    }
   ],
   "source": [
    "cp = []\n",
    "\n",
    "for j in non_basics\n",
    "    pj = A[:, j]\n",
    "    \n",
    "    cp_j = cT[j] - (yT * pj)\n",
    "    \n",
    "    append!(cp, cp_j)\n",
    "end\n",
    "\n",
    "cp"
   ]
  },
  {
   "cell_type": "markdown",
   "metadata": {},
   "source": [
    "If there are no positive reduced costs, then stop with the optimal solution"
   ]
  },
  {
   "cell_type": "code",
   "execution_count": 53,
   "metadata": {},
   "outputs": [
    {
     "name": "stdout",
     "output_type": "stream",
     "text": [
      "Solution is optimal"
     ]
    }
   ],
   "source": [
    "if all(x -> x <= 0, cp)\n",
    "    print(\"Solution is optimal\")\n",
    "end"
   ]
  },
  {
   "cell_type": "markdown",
   "metadata": {},
   "source": [
    "#### f) Assuming no other data changes, what value does the objective function coefficient of $𝑥_i$ have to reduce to so that $𝑥_i$ is zero in the optimal solution?"
   ]
  },
  {
   "cell_type": "code",
   "execution_count": 54,
   "metadata": {},
   "outputs": [
    {
     "data": {
      "text/plain": [
       "5.0"
      ]
     },
     "execution_count": 54,
     "metadata": {},
     "output_type": "execute_result"
    }
   ],
   "source": [
    "exam_2017 = 3\n",
    "exam_2016 = 3\n",
    "\n",
    "i = exam_2016\n",
    "\n",
    "pi = A[:, i]\n",
    "\n",
    "# c'_i = 0\n",
    "# c'_i = c_i - (y^T * pJ)\n",
    "# rearrange to\n",
    "ci_ = yT * pi"
   ]
  }
 ],
 "metadata": {
  "kernelspec": {
   "display_name": "Julia 0.6.2",
   "language": "julia",
   "name": "julia-0.6"
  },
  "language_info": {
   "file_extension": ".jl",
   "mimetype": "application/julia",
   "name": "julia",
   "version": "0.6.2"
  }
 },
 "nbformat": 4,
 "nbformat_minor": 2
}
